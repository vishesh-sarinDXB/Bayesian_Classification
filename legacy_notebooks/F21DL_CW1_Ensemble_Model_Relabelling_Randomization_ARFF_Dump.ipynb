{
 "cells": [
  {
   "cell_type": "code",
   "execution_count": 1,
   "metadata": {},
   "outputs": [],
   "source": [
    "import pandas as pd\n",
    "from sklearn.model_selection import train_test_split\n",
    "from sklearn.naive_bayes import GaussianNB, MultinomialNB, ComplementNB, BernoulliNB, CategoricalNB\n",
    "from sklearn.metrics import classification_report, cohen_kappa_score, confusion_matrix\n",
    "from sklearn.preprocessing import minmax_scale"
   ]
  },
  {
   "cell_type": "code",
   "execution_count": 2,
   "metadata": {},
   "outputs": [],
   "source": [
    "X = pd.read_csv('/home/swagmaster/Downloads/F21DL/CW1/original/x_train_gr_smpl.csv')\n",
    "y = pd.read_csv('/home/swagmaster/Downloads/F21DL/CW1/original/y_train_smpl.csv')\n",
    "\n",
    "y_0 = pd.read_csv('/home/swagmaster/Downloads/F21DL/CW1/original/y_train_smpl_0.csv')\n",
    "y_1 = pd.read_csv('/home/swagmaster/Downloads/F21DL/CW1/original/y_train_smpl_1.csv')\n",
    "y_2 = pd.read_csv('/home/swagmaster/Downloads/F21DL/CW1/original/y_train_smpl_2.csv')\n",
    "y_3 = pd.read_csv('/home/swagmaster/Downloads/F21DL/CW1/original/y_train_smpl_3.csv')\n",
    "y_4 = pd.read_csv('/home/swagmaster/Downloads/F21DL/CW1/original/y_train_smpl_4.csv')\n",
    "y_5 = pd.read_csv('/home/swagmaster/Downloads/F21DL/CW1/original/y_train_smpl_5.csv')\n",
    "y_6 = pd.read_csv('/home/swagmaster/Downloads/F21DL/CW1/original/y_train_smpl_6.csv')\n",
    "y_7 = pd.read_csv('/home/swagmaster/Downloads/F21DL/CW1/original/y_train_smpl_7.csv')\n",
    "y_8 = pd.read_csv('/home/swagmaster/Downloads/F21DL/CW1/original/y_train_smpl_8.csv')\n",
    "y_9 = pd.read_csv('/home/swagmaster/Downloads/F21DL/CW1/original/y_train_smpl_9.csv')\n",
    "\n",
    "y.columns = ['y']\n",
    "y_0.columns = ['y']\n",
    "y_1.columns = ['y']\n",
    "y_2.columns = ['y']\n",
    "y_3.columns = ['y']\n",
    "y_4.columns = ['y']\n",
    "y_5.columns = ['y']\n",
    "y_6.columns = ['y']\n",
    "y_7.columns = ['y']\n",
    "y_8.columns = ['y']\n",
    "y_9.columns = ['y']"
   ]
  },
  {
   "cell_type": "code",
   "execution_count": 3,
   "metadata": {},
   "outputs": [],
   "source": [
    "X_train, X_test, y_train, y_test = train_test_split(X, y, test_size=0.33, random_state=42, stratify = y)"
   ]
  },
  {
   "cell_type": "code",
   "execution_count": 4,
   "metadata": {},
   "outputs": [],
   "source": [
    "def topNpixels(n, y_corr):\n",
    "    \n",
    "    pix = y_corr[0].iloc[0:n].index\n",
    "    for corr in y_corr[1:]:\n",
    "        pix = pix.append(corr.iloc[0:n].index)\n",
    "        \n",
    "    return pix.unique()"
   ]
  },
  {
   "cell_type": "code",
   "execution_count": 5,
   "metadata": {},
   "outputs": [],
   "source": [
    "def nbwhole(X_train, X_test, b, y_train, y_test):\n",
    "    \n",
    "    clf_gnb = GaussianNB()\n",
    "    clf_mnb = MultinomialNB()\n",
    "    clf_cat = CategoricalNB()\n",
    "    \n",
    "    clf_gnb.fit(X_train, y_train)\n",
    "    clf_mnb.fit(X_train, y_train)\n",
    "    clf_cat.fit(X_train, y_train)\n",
    "    \n",
    "    pred_gnb = clf_gnb.predict(X_test)\n",
    "    pred_mnb = clf_mnb.predict(X_test)\n",
    "    pred_cat = clf_cat.predict(X_test)\n",
    "    \n",
    "    rep_gnb = pd.DataFrame(classification_report(y_test, pred_gnb, output_dict = True)).T\n",
    "    rep_mnb = pd.DataFrame(classification_report(y_test, pred_mnb, output_dict = True)).T\n",
    "    rep_cat = pd.DataFrame(classification_report(y_test, pred_cat, output_dict = True)).T\n",
    "    \n",
    "    kappa_gnb = cohen_kappa_score(y_test, pred_gnb)\n",
    "    kappa_mnb = cohen_kappa_score(y_test, pred_mnb)\n",
    "    kappa_cat = cohen_kappa_score(y_test, pred_cat)\n",
    "    \n",
    "    conf_gnb = pd.DataFrame(confusion_matrix(y_test, pred_gnb))\n",
    "    conf_mnb = pd.DataFrame(confusion_matrix(y_test, pred_mnb))\n",
    "    conf_cat = pd.DataFrame(confusion_matrix(y_test, pred_cat))\n",
    "    \n",
    "    rep = [rep_gnb, rep_mnb, rep_cat]\n",
    "    kappa = [kappa_gnb, kappa_mnb, kappa_cat]\n",
    "    conf = [conf_gnb, conf_mnb, conf_cat]\n",
    "    \n",
    "    return rep, kappa, conf"
   ]
  },
  {
   "cell_type": "code",
   "execution_count": 6,
   "metadata": {},
   "outputs": [],
   "source": [
    "def nb(n = 0, b = 11, X = X, X_train = X_train, X_test = X_test, y_train = y_train, y_test = y_test):\n",
    "    if n == 0:\n",
    "        return nbwhole(X_train, X_test, b, y_train, y_test)\n",
    "    else:\n",
    "        y_corr = corr(X)\n",
    "        pix = topNpixels(n, y_corr)\n",
    "        X_train_pix, X_test_pix = X_train[pix.unique()], X_test[pix.unique()]\n",
    "        return y_corr, pix.unique(), nbwhole(X_train_pix, X_test_pix, b, y_train, y_test)"
   ]
  },
  {
   "cell_type": "code",
   "execution_count": 7,
   "metadata": {},
   "outputs": [],
   "source": [
    "y_0_4 = y[0:8070]\n",
    "y_5_9 = y[8070:]\n",
    "X_0_4 = X[0:8070]\n",
    "X_5_9 = X[8070:]"
   ]
  },
  {
   "cell_type": "code",
   "execution_count": 8,
   "metadata": {},
   "outputs": [],
   "source": [
    "X_train_0_4, X_test_0_4, y_train_0_4, y_test_0_4 = train_test_split(X_0_4, y_0_4, test_size=0.33, \n",
    "                                                                    random_state=42, stratify = y_0_4)"
   ]
  },
  {
   "cell_type": "code",
   "execution_count": 9,
   "metadata": {},
   "outputs": [],
   "source": [
    "X_train_5_9, X_test_5_9, y_train_5_9, y_test_5_9 = train_test_split(X_5_9, y_5_9, test_size=0.33, \n",
    "                                                                    random_state=42, stratify = y_5_9)"
   ]
  },
  {
   "cell_type": "code",
   "execution_count": 10,
   "metadata": {},
   "outputs": [],
   "source": [
    "X_0_4_minmax = pd.DataFrame(minmax_scale(X_0_4, axis = 1))\n",
    "X_0_4_train_minmax = pd.DataFrame(minmax_scale(X_train_0_4, axis = 1))\n",
    "X_0_4_test_minmax = pd.DataFrame(minmax_scale(X_test_0_4, axis = 1))"
   ]
  },
  {
   "cell_type": "code",
   "execution_count": 11,
   "metadata": {},
   "outputs": [],
   "source": [
    "X_5_9_minmax = pd.DataFrame(minmax_scale(X_5_9, axis = 1))\n",
    "X_5_9_train_minmax = pd.DataFrame(minmax_scale(X_train_5_9, axis = 1))\n",
    "X_5_9_test_minmax = pd.DataFrame(minmax_scale(X_test_5_9, axis = 1))"
   ]
  },
  {
   "cell_type": "code",
   "execution_count": 12,
   "metadata": {},
   "outputs": [],
   "source": [
    "def corr_0_4(X_0_4):\n",
    "    \n",
    "    y_0_corr_abs_ordered = X_0_4.corrwith(y_0[0:8070].y).abs().sort_values(ascending = False)\n",
    "    y_1_corr_abs_ordered = X_0_4.corrwith(y_1[0:8070].y).abs().sort_values(ascending = False)\n",
    "    y_2_corr_abs_ordered = X_0_4.corrwith(y_2[0:8070].y).abs().sort_values(ascending = False)\n",
    "    y_3_corr_abs_ordered = X_0_4.corrwith(y_3[0:8070].y).abs().sort_values(ascending = False)\n",
    "    y_4_corr_abs_ordered = X_0_4.corrwith(y_4[0:8070].y).abs().sort_values(ascending = False)\n",
    "    \n",
    "    return [y_0_corr_abs_ordered, y_1_corr_abs_ordered, y_2_corr_abs_ordered, y_3_corr_abs_ordered, \n",
    "            y_4_corr_abs_ordered]"
   ]
  },
  {
   "cell_type": "code",
   "execution_count": 13,
   "metadata": {},
   "outputs": [],
   "source": [
    "def corr_5_9(X_5_9):\n",
    "    \n",
    "    y_5_corr_abs_ordered = X_5_9.corrwith(y_5[8070:].reset_index().drop(columns = 'index').y).abs().sort_values(ascending = False)\n",
    "    y_6_corr_abs_ordered = X_5_9.corrwith(y_6[8070:].reset_index().drop(columns = 'index').y).abs().sort_values(ascending = False)\n",
    "    y_7_corr_abs_ordered = X_5_9.corrwith(y_7[8070:].reset_index().drop(columns = 'index').y).abs().sort_values(ascending = False)\n",
    "    y_8_corr_abs_ordered = X_5_9.corrwith(y_8[8070:].reset_index().drop(columns = 'index').y).abs().sort_values(ascending = False)\n",
    "    y_9_corr_abs_ordered = X_5_9.corrwith(y_9[8070:].reset_index().drop(columns = 'index').y).abs().sort_values(ascending = False)\n",
    "    \n",
    "    return [y_5_corr_abs_ordered, y_6_corr_abs_ordered, y_7_corr_abs_ordered, \n",
    "            y_8_corr_abs_ordered, y_9_corr_abs_ordered]"
   ]
  },
  {
   "cell_type": "code",
   "execution_count": 14,
   "metadata": {},
   "outputs": [],
   "source": [
    "pix_0_4 = topNpixels(30, corr_0_4(X_0_4_minmax))\n",
    "pix_5_9 = topNpixels(30, corr_5_9(X_5_9_minmax))"
   ]
  },
  {
   "cell_type": "code",
   "execution_count": 15,
   "metadata": {},
   "outputs": [],
   "source": [
    "X_train_0_4_pix10 = X_0_4_train_minmax[pix_0_4]\n",
    "X_train_5_9_pix10 = X_5_9_train_minmax[pix_5_9]\n",
    "X_test_0_4_pix10 = X_0_4_test_minmax[pix_0_4]\n",
    "X_test_5_9_pix10 = X_5_9_test_minmax[pix_5_9]"
   ]
  },
  {
   "cell_type": "code",
   "execution_count": 16,
   "metadata": {
    "collapsed": true
   },
   "outputs": [
    {
     "name": "stderr",
     "output_type": "stream",
     "text": [
      "/home/swagmaster/anaconda3/envs/f21dlbn/lib/python3.7/site-packages/ipykernel_launcher.py:1: SettingWithCopyWarning: \n",
      "A value is trying to be set on a copy of a slice from a DataFrame.\n",
      "Try using .loc[row_indexer,col_indexer] = value instead\n",
      "\n",
      "See the caveats in the documentation: https://pandas.pydata.org/pandas-docs/stable/user_guide/indexing.html#returning-a-view-versus-a-copy\n",
      "  \"\"\"Entry point for launching an IPython kernel.\n",
      "/home/swagmaster/anaconda3/envs/f21dlbn/lib/python3.7/site-packages/ipykernel_launcher.py:2: SettingWithCopyWarning: \n",
      "A value is trying to be set on a copy of a slice from a DataFrame.\n",
      "Try using .loc[row_indexer,col_indexer] = value instead\n",
      "\n",
      "See the caveats in the documentation: https://pandas.pydata.org/pandas-docs/stable/user_guide/indexing.html#returning-a-view-versus-a-copy\n",
      "  \n"
     ]
    }
   ],
   "source": [
    "X_train_0_4_pix10['y'] = y_train_0_4.reset_index().drop(columns = 'index')\n",
    "X_test_0_4_pix10['y'] = y_test_0_4.reset_index().drop(columns = 'index')"
   ]
  },
  {
   "cell_type": "code",
   "execution_count": 17,
   "metadata": {
    "collapsed": true
   },
   "outputs": [
    {
     "name": "stderr",
     "output_type": "stream",
     "text": [
      "/home/swagmaster/anaconda3/envs/f21dlbn/lib/python3.7/site-packages/ipykernel_launcher.py:1: SettingWithCopyWarning: \n",
      "A value is trying to be set on a copy of a slice from a DataFrame.\n",
      "Try using .loc[row_indexer,col_indexer] = value instead\n",
      "\n",
      "See the caveats in the documentation: https://pandas.pydata.org/pandas-docs/stable/user_guide/indexing.html#returning-a-view-versus-a-copy\n",
      "  \"\"\"Entry point for launching an IPython kernel.\n",
      "/home/swagmaster/anaconda3/envs/f21dlbn/lib/python3.7/site-packages/ipykernel_launcher.py:2: SettingWithCopyWarning: \n",
      "A value is trying to be set on a copy of a slice from a DataFrame.\n",
      "Try using .loc[row_indexer,col_indexer] = value instead\n",
      "\n",
      "See the caveats in the documentation: https://pandas.pydata.org/pandas-docs/stable/user_guide/indexing.html#returning-a-view-versus-a-copy\n",
      "  \n"
     ]
    }
   ],
   "source": [
    "X_train_5_9_pix10['y'] = y_train_5_9.reset_index().drop(columns = 'index')\n",
    "X_test_5_9_pix10['y'] = y_test_5_9.reset_index().drop(columns = 'index')"
   ]
  },
  {
   "cell_type": "code",
   "execution_count": 18,
   "metadata": {},
   "outputs": [],
   "source": [
    "import arff"
   ]
  },
  {
   "cell_type": "code",
   "execution_count": 19,
   "metadata": {},
   "outputs": [],
   "source": [
    "arff.dump('X_train_0_4.arff'\n",
    "      , X_train_0_4_pix10.values\n",
    "      , relation='train_0_4'\n",
    "      , names=X_train_0_4_pix10.columns)\n",
    "\n",
    "arff.dump('X_test_0_4.arff'\n",
    "      , X_test_0_4_pix10.values\n",
    "      , relation='test_0_4'\n",
    "      , names=X_test_0_4_pix10.columns)"
   ]
  },
  {
   "cell_type": "code",
   "execution_count": 20,
   "metadata": {},
   "outputs": [],
   "source": [
    "arff.dump('X_train_5_9.arff'\n",
    "      , X_train_5_9_pix10.values\n",
    "      , relation='train_5_9'\n",
    "      , names=X_train_5_9_pix10.columns)\n",
    "\n",
    "arff.dump('X_test_5_9.arff'\n",
    "      , X_test_5_9_pix10.values\n",
    "      , relation='test_5_9'\n",
    "      , names=X_test_5_9_pix10.columns)"
   ]
  },
  {
   "cell_type": "code",
   "execution_count": 21,
   "metadata": {},
   "outputs": [],
   "source": [
    "y_new = y['y'].apply(lambda x : 0 if x == 0 or x == 1 or x == 2 or x == 3 or x == 4 else 1)"
   ]
  },
  {
   "cell_type": "code",
   "execution_count": 22,
   "metadata": {},
   "outputs": [],
   "source": [
    "y_train_new = y_train['y'].apply(lambda x : 0 if x == 0 or x == 1 or x == 2 or x == 3 or x == 4 else 1)"
   ]
  },
  {
   "cell_type": "code",
   "execution_count": 23,
   "metadata": {},
   "outputs": [],
   "source": [
    "y_test_new = y_test['y'].apply(lambda x : 0 if x == 0 or x == 1 or x == 2 or x == 3 or x == 4 else 1)"
   ]
  },
  {
   "cell_type": "code",
   "execution_count": 24,
   "metadata": {},
   "outputs": [],
   "source": [
    "X_minmax = pd.DataFrame(minmax_scale(X, axis = 1))\n",
    "X_train = pd.DataFrame(minmax_scale(X_train, axis = 1))\n",
    "X_test = pd.DataFrame(minmax_scale(X_test, axis = 1))"
   ]
  },
  {
   "cell_type": "code",
   "execution_count": 25,
   "metadata": {},
   "outputs": [],
   "source": [
    "t100new = X_minmax.corrwith(y_new).abs().sort_values(ascending = False)[0:99]"
   ]
  },
  {
   "cell_type": "code",
   "execution_count": 26,
   "metadata": {},
   "outputs": [],
   "source": [
    "X_train = X_train.iloc[: , t100new.index.astype(int)]"
   ]
  },
  {
   "cell_type": "code",
   "execution_count": 27,
   "metadata": {},
   "outputs": [],
   "source": [
    "X_test = X_test.iloc[: , t100new.index.astype(int)]"
   ]
  },
  {
   "cell_type": "code",
   "execution_count": 28,
   "metadata": {},
   "outputs": [],
   "source": [
    "y_train_new = y_train_new.reset_index().drop(columns = 'index')"
   ]
  },
  {
   "cell_type": "code",
   "execution_count": 29,
   "metadata": {},
   "outputs": [],
   "source": [
    "y_test_new = y_test_new.reset_index().drop(columns = 'index')"
   ]
  },
  {
   "cell_type": "code",
   "execution_count": 30,
   "metadata": {},
   "outputs": [],
   "source": [
    "X_train['y'] = y_train_new"
   ]
  },
  {
   "cell_type": "code",
   "execution_count": 31,
   "metadata": {},
   "outputs": [],
   "source": [
    "X_test['y'] = y_test_new"
   ]
  },
  {
   "cell_type": "code",
   "execution_count": 34,
   "metadata": {},
   "outputs": [],
   "source": [
    "arff.dump('X_train_new.arff'\n",
    "      , X_train.values\n",
    "      , relation='train_new'\n",
    "      , names=X_train.columns)\n",
    "\n",
    "arff.dump('X_test_new.arff'\n",
    "      , X_test.values\n",
    "      , relation='test_new'\n",
    "      , names=X_test.columns)"
   ]
  }
 ],
 "metadata": {
  "kernelspec": {
   "display_name": "Python 3",
   "language": "python",
   "name": "python3"
  },
  "language_info": {
   "codemirror_mode": {
    "name": "ipython",
    "version": 3
   },
   "file_extension": ".py",
   "mimetype": "text/x-python",
   "name": "python",
   "nbconvert_exporter": "python",
   "pygments_lexer": "ipython3",
   "version": "3.7.9"
  }
 },
 "nbformat": 4,
 "nbformat_minor": 4
}
