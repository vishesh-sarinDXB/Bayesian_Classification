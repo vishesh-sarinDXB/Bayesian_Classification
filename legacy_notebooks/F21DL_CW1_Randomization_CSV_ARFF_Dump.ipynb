{
 "cells": [
  {
   "cell_type": "code",
   "execution_count": 1,
   "metadata": {},
   "outputs": [],
   "source": [
    "import pandas as pd"
   ]
  },
  {
   "cell_type": "code",
   "execution_count": 2,
   "metadata": {},
   "outputs": [],
   "source": [
    "X = pd.read_csv('/home/swagmaster/Downloads/F21DL/CW1/x_train_gr_smpl.csv')"
   ]
  },
  {
   "cell_type": "code",
   "execution_count": 3,
   "metadata": {},
   "outputs": [],
   "source": [
    "y = pd.read_csv('/home/swagmaster/Downloads/F21DL/CW1/y_train_smpl.csv')"
   ]
  },
  {
   "cell_type": "code",
   "execution_count": 14,
   "metadata": {},
   "outputs": [],
   "source": [
    "from sklearn.model_selection import train_test_split"
   ]
  },
  {
   "cell_type": "code",
   "execution_count": 15,
   "metadata": {},
   "outputs": [],
   "source": [
    "X_train, X_test, y_train, y_test = train_test_split(X, y, test_size=0.33, random_state=42, stratify = y)"
   ]
  },
  {
   "cell_type": "code",
   "execution_count": 26,
   "metadata": {
    "collapsed": true
   },
   "outputs": [
    {
     "name": "stderr",
     "output_type": "stream",
     "text": [
      "<ipython-input-26-bf218277c6fc>:2: SettingWithCopyWarning: \n",
      "A value is trying to be set on a copy of a slice from a DataFrame.\n",
      "Try using .loc[row_indexer,col_indexer] = value instead\n",
      "\n",
      "See the caveats in the documentation: https://pandas.pydata.org/pandas-docs/stable/user_guide/indexing.html#returning-a-view-versus-a-copy\n",
      "  data_train_all['y'] = y_train\n",
      "<ipython-input-26-bf218277c6fc>:5: SettingWithCopyWarning: \n",
      "A value is trying to be set on a copy of a slice from a DataFrame.\n",
      "Try using .loc[row_indexer,col_indexer] = value instead\n",
      "\n",
      "See the caveats in the documentation: https://pandas.pydata.org/pandas-docs/stable/user_guide/indexing.html#returning-a-view-versus-a-copy\n",
      "  data_test_all['y'] = y_test\n"
     ]
    }
   ],
   "source": [
    "data_train_all = X_train\n",
    "data_train_all['y'] = y_train\n",
    "\n",
    "data_test_all = X_test\n",
    "data_test_all['y'] = y_test\n",
    "\n",
    "frames = [data_train_all, data_test_all]\n",
    "\n",
    "data_all = pd.concat(frames)"
   ]
  },
  {
   "cell_type": "code",
   "execution_count": 37,
   "metadata": {},
   "outputs": [],
   "source": [
    "import arff"
   ]
  },
  {
   "cell_type": "code",
   "execution_count": 38,
   "metadata": {},
   "outputs": [],
   "source": [
    "arff.dump('/home/swagmaster/Downloads/F21DL/CW1/data_train_all.arff'\n",
    "      , data_train_all.values\n",
    "      , relation='data_train_all'\n",
    "      , names=data_train_all.columns)"
   ]
  },
  {
   "cell_type": "code",
   "execution_count": 39,
   "metadata": {},
   "outputs": [],
   "source": [
    "arff.dump('/home/swagmaster/Downloads/F21DL/CW1/data_test_all.arff'\n",
    "      , data_test_all.values\n",
    "      , relation='data_test_all'\n",
    "      , names=data_test_all.columns)"
   ]
  },
  {
   "cell_type": "code",
   "execution_count": 40,
   "metadata": {},
   "outputs": [],
   "source": [
    "arff.dump('/home/swagmaster/Downloads/F21DL/CW1/data_all.arff'\n",
    "      , data_all.values\n",
    "      , relation='data_all'\n",
    "      , names=data_all.columns)"
   ]
  },
  {
   "cell_type": "code",
   "execution_count": 51,
   "metadata": {},
   "outputs": [],
   "source": [
    "data_train_all.to_csv('/home/swagmaster/Downloads/F21DL/CW1/data_train_all.csv')\n",
    "data_test_all.to_csv('/home/swagmaster/Downloads/F21DL/CW1/data_test_all.csv')\n",
    "data_all.to_csv('/home/swagmaster/Downloads/F21DL/CW1/data_all.csv')"
   ]
  }
 ],
 "metadata": {
  "kernelspec": {
   "display_name": "Python 3",
   "language": "python",
   "name": "python3"
  },
  "language_info": {
   "codemirror_mode": {
    "name": "ipython",
    "version": 3
   },
   "file_extension": ".py",
   "mimetype": "text/x-python",
   "name": "python",
   "nbconvert_exporter": "python",
   "pygments_lexer": "ipython3",
   "version": "3.7.9"
  }
 },
 "nbformat": 4,
 "nbformat_minor": 4
}
