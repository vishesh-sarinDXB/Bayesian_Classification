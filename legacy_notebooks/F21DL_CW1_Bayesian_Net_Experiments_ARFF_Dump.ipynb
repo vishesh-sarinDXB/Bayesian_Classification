{
 "cells": [
  {
   "cell_type": "code",
   "execution_count": 1,
   "metadata": {},
   "outputs": [],
   "source": [
    "import pandas as pd\n",
    "from sklearn.model_selection import train_test_split\n",
    "from sklearn.naive_bayes import MultinomialNB\n",
    "from sklearn.preprocessing import minmax_scale\n",
    "import numpy as np\n",
    "import arff"
   ]
  },
  {
   "cell_type": "code",
   "execution_count": 2,
   "metadata": {},
   "outputs": [],
   "source": [
    "X = pd.read_csv('/home/swagmaster/Downloads/F21DL/CW1/original/x_train_gr_smpl.csv')\n",
    "y = pd.read_csv('/home/swagmaster/Downloads/F21DL/CW1/original/y_train_smpl.csv')\n",
    "\n",
    "y_0 = pd.read_csv('/home/swagmaster/Downloads/F21DL/CW1/original/y_train_smpl_0.csv')\n",
    "y_1 = pd.read_csv('/home/swagmaster/Downloads/F21DL/CW1/original/y_train_smpl_1.csv')\n",
    "y_2 = pd.read_csv('/home/swagmaster/Downloads/F21DL/CW1/original/y_train_smpl_2.csv')\n",
    "y_3 = pd.read_csv('/home/swagmaster/Downloads/F21DL/CW1/original/y_train_smpl_3.csv')\n",
    "y_4 = pd.read_csv('/home/swagmaster/Downloads/F21DL/CW1/original/y_train_smpl_4.csv')\n",
    "y_5 = pd.read_csv('/home/swagmaster/Downloads/F21DL/CW1/original/y_train_smpl_5.csv')\n",
    "y_6 = pd.read_csv('/home/swagmaster/Downloads/F21DL/CW1/original/y_train_smpl_6.csv')\n",
    "y_7 = pd.read_csv('/home/swagmaster/Downloads/F21DL/CW1/original/y_train_smpl_7.csv')\n",
    "y_8 = pd.read_csv('/home/swagmaster/Downloads/F21DL/CW1/original/y_train_smpl_8.csv')\n",
    "y_9 = pd.read_csv('/home/swagmaster/Downloads/F21DL/CW1/original/y_train_smpl_9.csv')\n",
    "\n",
    "y.columns = ['y']\n",
    "y_0.columns = ['y']\n",
    "y_1.columns = ['y']\n",
    "y_2.columns = ['y']\n",
    "y_3.columns = ['y']\n",
    "y_4.columns = ['y']\n",
    "y_5.columns = ['y']\n",
    "y_6.columns = ['y']\n",
    "y_7.columns = ['y']\n",
    "y_8.columns = ['y']\n",
    "y_9.columns = ['y']"
   ]
  },
  {
   "cell_type": "code",
   "execution_count": 3,
   "metadata": {},
   "outputs": [],
   "source": [
    "X_train, X_test, y_train, y_test = train_test_split(X, y, test_size=0.33, random_state=42, stratify = y)"
   ]
  },
  {
   "cell_type": "code",
   "execution_count": 4,
   "metadata": {},
   "outputs": [],
   "source": [
    "def corr(X):\n",
    "    \n",
    "    y_0_corr_abs_ordered = X.corrwith(y_0.y).abs().sort_values(ascending = False)\n",
    "    y_1_corr_abs_ordered = X.corrwith(y_1.y).abs().sort_values(ascending = False)\n",
    "    y_2_corr_abs_ordered = X.corrwith(y_2.y).abs().sort_values(ascending = False)\n",
    "    y_3_corr_abs_ordered = X.corrwith(y_3.y).abs().sort_values(ascending = False)\n",
    "    y_4_corr_abs_ordered = X.corrwith(y_4.y).abs().sort_values(ascending = False)\n",
    "    y_5_corr_abs_ordered = X.corrwith(y_5.y).abs().sort_values(ascending = False)\n",
    "    y_6_corr_abs_ordered = X.corrwith(y_6.y).abs().sort_values(ascending = False)\n",
    "    y_7_corr_abs_ordered = X.corrwith(y_7.y).abs().sort_values(ascending = False)\n",
    "    y_8_corr_abs_ordered = X.corrwith(y_8.y).abs().sort_values(ascending = False)\n",
    "    y_9_corr_abs_ordered = X.corrwith(y_9.y).abs().sort_values(ascending = False)\n",
    "    \n",
    "    return [y_0_corr_abs_ordered, y_1_corr_abs_ordered, y_2_corr_abs_ordered, y_3_corr_abs_ordered, \n",
    "            y_4_corr_abs_ordered, y_5_corr_abs_ordered, y_6_corr_abs_ordered, y_7_corr_abs_ordered, \n",
    "            y_8_corr_abs_ordered, y_9_corr_abs_ordered]"
   ]
  },
  {
   "cell_type": "code",
   "execution_count": 5,
   "metadata": {},
   "outputs": [],
   "source": [
    "def topNpixels(n, y_corr):\n",
    "    \n",
    "    pix = y_corr[0].iloc[0:n].index\n",
    "    for corr in y_corr[1:]:\n",
    "        pix = pix.append(corr.iloc[0:n].index)\n",
    "        \n",
    "    return pix"
   ]
  },
  {
   "cell_type": "code",
   "execution_count": 6,
   "metadata": {},
   "outputs": [],
   "source": [
    "X_minmax = pd.DataFrame(minmax_scale(X, axis = 1))\n",
    "X_train_minmax = pd.DataFrame(minmax_scale(X_train, axis = 1))\n",
    "X_test_minmax = pd.DataFrame(minmax_scale(X_test, axis = 1))"
   ]
  },
  {
   "cell_type": "code",
   "execution_count": 7,
   "metadata": {},
   "outputs": [],
   "source": [
    "X_minmax_1dp = pd.DataFrame(minmax_scale(X, axis = 1)).round(1)\n",
    "X_train_minmax_1dp = pd.DataFrame(minmax_scale(X_train, axis = 1)).round(1)\n",
    "X_test_minmax_1dp = pd.DataFrame(minmax_scale(X_test, axis = 1)).round(1)"
   ]
  },
  {
   "cell_type": "code",
   "execution_count": 8,
   "metadata": {},
   "outputs": [],
   "source": [
    "X_corr = corr(X)\n",
    "X_minmax_corr = corr(X_minmax)\n",
    "X_minmax_1dp_corr = corr(X_minmax_1dp)"
   ]
  },
  {
   "cell_type": "code",
   "execution_count": 9,
   "metadata": {},
   "outputs": [],
   "source": [
    "t5_pix = topNpixels(5, X_corr)\n",
    "t10_pix = topNpixels(10, X_corr)\n",
    "t20_pix = topNpixels(20, X_corr)"
   ]
  },
  {
   "cell_type": "code",
   "execution_count": 10,
   "metadata": {},
   "outputs": [],
   "source": [
    "t5_mm_pix = topNpixels(5, X_minmax_corr)\n",
    "t10_mm_pix = topNpixels(10, X_minmax_corr)\n",
    "t20_mm_pix = topNpixels(20, X_minmax_corr)"
   ]
  },
  {
   "cell_type": "code",
   "execution_count": 11,
   "metadata": {},
   "outputs": [],
   "source": [
    "t5_mmr_pix = topNpixels(5, X_minmax_1dp_corr)\n",
    "t10_mmr_pix = topNpixels(10, X_minmax_1dp_corr)\n",
    "t20_mmr_pix = topNpixels(20, X_minmax_1dp_corr)"
   ]
  },
  {
   "cell_type": "code",
   "execution_count": 12,
   "metadata": {},
   "outputs": [],
   "source": [
    "t5_X_train, t5_X_test = X_train[t5_pix.unique()], X_test[t5_pix.unique()]\n",
    "t10_X_train, t10_X_test = X_train[t10_pix.unique()], X_test[t10_pix.unique()]\n",
    "t20_X_train, t20_X_test = X_train[t20_pix.unique()], X_test[t20_pix.unique()]"
   ]
  },
  {
   "cell_type": "code",
   "execution_count": 13,
   "metadata": {},
   "outputs": [],
   "source": [
    "t5_X_mm_train, t5_X_mm_test = X_train_minmax[t5_mm_pix.unique()], X_test_minmax[t5_mm_pix.unique()]\n",
    "t10_X_mm_train, t10_X_mm_test = X_train_minmax[t10_mm_pix.unique()], X_test_minmax[t10_mm_pix.unique()]\n",
    "t20_X_mm_train, t20_X_mm_test = X_train_minmax[t20_mm_pix.unique()], X_test_minmax[t20_mm_pix.unique()]"
   ]
  },
  {
   "cell_type": "code",
   "execution_count": 14,
   "metadata": {},
   "outputs": [],
   "source": [
    "t5_X_mmr_train, t5_X_mmr_test = X_train_minmax_1dp[t5_mmr_pix.unique()], X_test_minmax_1dp[t5_mmr_pix.unique()]\n",
    "t10_X_mmr_train, t10_X_mmr_test = X_train_minmax_1dp[t10_mmr_pix.unique()], X_test_minmax_1dp[t10_mmr_pix.unique()]\n",
    "t20_X_mmr_train, t20_X_mmr_test = X_train_minmax_1dp[t20_mmr_pix.unique()], X_test_minmax_1dp[t20_mmr_pix.unique()]"
   ]
  },
  {
   "cell_type": "code",
   "execution_count": 15,
   "metadata": {
    "collapsed": true
   },
   "outputs": [
    {
     "name": "stderr",
     "output_type": "stream",
     "text": [
      "/home/swagmaster/anaconda3/envs/f21dlbn/lib/python3.7/site-packages/ipykernel_launcher.py:1: SettingWithCopyWarning: \n",
      "A value is trying to be set on a copy of a slice from a DataFrame.\n",
      "Try using .loc[row_indexer,col_indexer] = value instead\n",
      "\n",
      "See the caveats in the documentation: https://pandas.pydata.org/pandas-docs/stable/user_guide/indexing.html#returning-a-view-versus-a-copy\n",
      "  \"\"\"Entry point for launching an IPython kernel.\n",
      "/home/swagmaster/anaconda3/envs/f21dlbn/lib/python3.7/site-packages/ipykernel_launcher.py:2: SettingWithCopyWarning: \n",
      "A value is trying to be set on a copy of a slice from a DataFrame.\n",
      "Try using .loc[row_indexer,col_indexer] = value instead\n",
      "\n",
      "See the caveats in the documentation: https://pandas.pydata.org/pandas-docs/stable/user_guide/indexing.html#returning-a-view-versus-a-copy\n",
      "  \n",
      "/home/swagmaster/anaconda3/envs/f21dlbn/lib/python3.7/site-packages/ipykernel_launcher.py:3: SettingWithCopyWarning: \n",
      "A value is trying to be set on a copy of a slice from a DataFrame.\n",
      "Try using .loc[row_indexer,col_indexer] = value instead\n",
      "\n",
      "See the caveats in the documentation: https://pandas.pydata.org/pandas-docs/stable/user_guide/indexing.html#returning-a-view-versus-a-copy\n",
      "  This is separate from the ipykernel package so we can avoid doing imports until\n",
      "/home/swagmaster/anaconda3/envs/f21dlbn/lib/python3.7/site-packages/ipykernel_launcher.py:4: SettingWithCopyWarning: \n",
      "A value is trying to be set on a copy of a slice from a DataFrame.\n",
      "Try using .loc[row_indexer,col_indexer] = value instead\n",
      "\n",
      "See the caveats in the documentation: https://pandas.pydata.org/pandas-docs/stable/user_guide/indexing.html#returning-a-view-versus-a-copy\n",
      "  after removing the cwd from sys.path.\n",
      "/home/swagmaster/anaconda3/envs/f21dlbn/lib/python3.7/site-packages/ipykernel_launcher.py:5: SettingWithCopyWarning: \n",
      "A value is trying to be set on a copy of a slice from a DataFrame.\n",
      "Try using .loc[row_indexer,col_indexer] = value instead\n",
      "\n",
      "See the caveats in the documentation: https://pandas.pydata.org/pandas-docs/stable/user_guide/indexing.html#returning-a-view-versus-a-copy\n",
      "  \"\"\"\n",
      "/home/swagmaster/anaconda3/envs/f21dlbn/lib/python3.7/site-packages/ipykernel_launcher.py:6: SettingWithCopyWarning: \n",
      "A value is trying to be set on a copy of a slice from a DataFrame.\n",
      "Try using .loc[row_indexer,col_indexer] = value instead\n",
      "\n",
      "See the caveats in the documentation: https://pandas.pydata.org/pandas-docs/stable/user_guide/indexing.html#returning-a-view-versus-a-copy\n",
      "  \n",
      "/home/swagmaster/anaconda3/envs/f21dlbn/lib/python3.7/site-packages/ipykernel_launcher.py:14: SettingWithCopyWarning: \n",
      "A value is trying to be set on a copy of a slice from a DataFrame.\n",
      "Try using .loc[row_indexer,col_indexer] = value instead\n",
      "\n",
      "See the caveats in the documentation: https://pandas.pydata.org/pandas-docs/stable/user_guide/indexing.html#returning-a-view-versus-a-copy\n",
      "  \n",
      "/home/swagmaster/anaconda3/envs/f21dlbn/lib/python3.7/site-packages/ipykernel_launcher.py:15: SettingWithCopyWarning: \n",
      "A value is trying to be set on a copy of a slice from a DataFrame.\n",
      "Try using .loc[row_indexer,col_indexer] = value instead\n",
      "\n",
      "See the caveats in the documentation: https://pandas.pydata.org/pandas-docs/stable/user_guide/indexing.html#returning-a-view-versus-a-copy\n",
      "  from ipykernel import kernelapp as app\n",
      "/home/swagmaster/anaconda3/envs/f21dlbn/lib/python3.7/site-packages/ipykernel_launcher.py:16: SettingWithCopyWarning: \n",
      "A value is trying to be set on a copy of a slice from a DataFrame.\n",
      "Try using .loc[row_indexer,col_indexer] = value instead\n",
      "\n",
      "See the caveats in the documentation: https://pandas.pydata.org/pandas-docs/stable/user_guide/indexing.html#returning-a-view-versus-a-copy\n",
      "  app.launch_new_instance()\n",
      "/home/swagmaster/anaconda3/envs/f21dlbn/lib/python3.7/site-packages/ipykernel_launcher.py:17: SettingWithCopyWarning: \n",
      "A value is trying to be set on a copy of a slice from a DataFrame.\n",
      "Try using .loc[row_indexer,col_indexer] = value instead\n",
      "\n",
      "See the caveats in the documentation: https://pandas.pydata.org/pandas-docs/stable/user_guide/indexing.html#returning-a-view-versus-a-copy\n"
     ]
    }
   ],
   "source": [
    "t5_X_train['y'] = y_train\n",
    "t5_X_test['y'] = y_test\n",
    "t10_X_train['y'] = y_train\n",
    "t10_X_test['y'] = y_test\n",
    "t20_X_train['y'] = y_train\n",
    "t20_X_test['y'] = y_test\n",
    "\n",
    "\n",
    "y_train = y_train.reset_index().drop(columns = 'index')\n",
    "y_test = y_test.reset_index().drop(columns = 'index')\n",
    "\n",
    "\n",
    "\n",
    "t5_X_mm_train['y'] = y_train\n",
    "t5_X_mm_test['y'] = y_test\n",
    "t5_X_mmr_train['y'] = y_train\n",
    "t5_X_mmr_test['y'] = y_test"
   ]
  },
  {
   "cell_type": "code",
   "execution_count": 17,
   "metadata": {
    "collapsed": true
   },
   "outputs": [
    {
     "name": "stderr",
     "output_type": "stream",
     "text": [
      "/home/swagmaster/anaconda3/envs/f21dlbn/lib/python3.7/site-packages/ipykernel_launcher.py:1: SettingWithCopyWarning: \n",
      "A value is trying to be set on a copy of a slice from a DataFrame.\n",
      "Try using .loc[row_indexer,col_indexer] = value instead\n",
      "\n",
      "See the caveats in the documentation: https://pandas.pydata.org/pandas-docs/stable/user_guide/indexing.html#returning-a-view-versus-a-copy\n",
      "  \"\"\"Entry point for launching an IPython kernel.\n",
      "/home/swagmaster/anaconda3/envs/f21dlbn/lib/python3.7/site-packages/ipykernel_launcher.py:2: SettingWithCopyWarning: \n",
      "A value is trying to be set on a copy of a slice from a DataFrame.\n",
      "Try using .loc[row_indexer,col_indexer] = value instead\n",
      "\n",
      "See the caveats in the documentation: https://pandas.pydata.org/pandas-docs/stable/user_guide/indexing.html#returning-a-view-versus-a-copy\n",
      "  \n",
      "/home/swagmaster/anaconda3/envs/f21dlbn/lib/python3.7/site-packages/ipykernel_launcher.py:3: SettingWithCopyWarning: \n",
      "A value is trying to be set on a copy of a slice from a DataFrame.\n",
      "Try using .loc[row_indexer,col_indexer] = value instead\n",
      "\n",
      "See the caveats in the documentation: https://pandas.pydata.org/pandas-docs/stable/user_guide/indexing.html#returning-a-view-versus-a-copy\n",
      "  This is separate from the ipykernel package so we can avoid doing imports until\n",
      "/home/swagmaster/anaconda3/envs/f21dlbn/lib/python3.7/site-packages/ipykernel_launcher.py:4: SettingWithCopyWarning: \n",
      "A value is trying to be set on a copy of a slice from a DataFrame.\n",
      "Try using .loc[row_indexer,col_indexer] = value instead\n",
      "\n",
      "See the caveats in the documentation: https://pandas.pydata.org/pandas-docs/stable/user_guide/indexing.html#returning-a-view-versus-a-copy\n",
      "  after removing the cwd from sys.path.\n"
     ]
    }
   ],
   "source": [
    "t10_X_mm_train['y'] = y_train\n",
    "t10_X_mm_test['y'] = y_test\n",
    "t10_X_mmr_train['y'] = y_train\n",
    "t10_X_mmr_test['y'] = y_test"
   ]
  },
  {
   "cell_type": "code",
   "execution_count": 18,
   "metadata": {
    "collapsed": true
   },
   "outputs": [
    {
     "name": "stderr",
     "output_type": "stream",
     "text": [
      "/home/swagmaster/anaconda3/envs/f21dlbn/lib/python3.7/site-packages/ipykernel_launcher.py:1: SettingWithCopyWarning: \n",
      "A value is trying to be set on a copy of a slice from a DataFrame.\n",
      "Try using .loc[row_indexer,col_indexer] = value instead\n",
      "\n",
      "See the caveats in the documentation: https://pandas.pydata.org/pandas-docs/stable/user_guide/indexing.html#returning-a-view-versus-a-copy\n",
      "  \"\"\"Entry point for launching an IPython kernel.\n",
      "/home/swagmaster/anaconda3/envs/f21dlbn/lib/python3.7/site-packages/ipykernel_launcher.py:2: SettingWithCopyWarning: \n",
      "A value is trying to be set on a copy of a slice from a DataFrame.\n",
      "Try using .loc[row_indexer,col_indexer] = value instead\n",
      "\n",
      "See the caveats in the documentation: https://pandas.pydata.org/pandas-docs/stable/user_guide/indexing.html#returning-a-view-versus-a-copy\n",
      "  \n",
      "/home/swagmaster/anaconda3/envs/f21dlbn/lib/python3.7/site-packages/ipykernel_launcher.py:3: SettingWithCopyWarning: \n",
      "A value is trying to be set on a copy of a slice from a DataFrame.\n",
      "Try using .loc[row_indexer,col_indexer] = value instead\n",
      "\n",
      "See the caveats in the documentation: https://pandas.pydata.org/pandas-docs/stable/user_guide/indexing.html#returning-a-view-versus-a-copy\n",
      "  This is separate from the ipykernel package so we can avoid doing imports until\n",
      "/home/swagmaster/anaconda3/envs/f21dlbn/lib/python3.7/site-packages/ipykernel_launcher.py:4: SettingWithCopyWarning: \n",
      "A value is trying to be set on a copy of a slice from a DataFrame.\n",
      "Try using .loc[row_indexer,col_indexer] = value instead\n",
      "\n",
      "See the caveats in the documentation: https://pandas.pydata.org/pandas-docs/stable/user_guide/indexing.html#returning-a-view-versus-a-copy\n",
      "  after removing the cwd from sys.path.\n"
     ]
    }
   ],
   "source": [
    "t20_X_mm_train['y'] = y_train\n",
    "t20_X_mm_test['y'] = y_test\n",
    "t20_X_mmr_train['y'] = y_train\n",
    "t20_X_mmr_test['y'] = y_test"
   ]
  },
  {
   "cell_type": "code",
   "execution_count": 19,
   "metadata": {},
   "outputs": [],
   "source": [
    "arff.dump('t5_X_train.arff'\n",
    "      , t5_X_train.values\n",
    "      , relation='top_5_correlated_non_normalized_train'\n",
    "      , names=t5_X_train.columns)\n",
    "\n",
    "arff.dump('t5_X_test.arff'\n",
    "      , t5_X_test.values\n",
    "      , relation='top_5_correlated_non_normalized_test'\n",
    "      , names=t5_X_test.columns)\n",
    "\n",
    "arff.dump('t5_X_mm_train.arff'\n",
    "      , t5_X_mm_train.values\n",
    "      , relation='top_5_correlated_normalized_train'\n",
    "      , names=t5_X_mm_train.columns)\n",
    "\n",
    "arff.dump('t5_X_mm_test.arff'\n",
    "      , t5_X_mm_test.values\n",
    "      , relation='top_5_correlated_normalized_test'\n",
    "      , names=t5_X_mm_test.columns)\n",
    "\n",
    "arff.dump('t5_X_mmr_train.arff'\n",
    "      , t5_X_mmr_train.values\n",
    "      , relation='top_5_correlated_normalized_rounded_train'\n",
    "      , names=t5_X_mmr_train.columns)\n",
    "\n",
    "arff.dump('t5_X_mmr_test.arff'\n",
    "      , t5_X_mmr_test.values\n",
    "      , relation='top_5_correlated_normalized_rounded_test'\n",
    "      , names=t5_X_mmr_test.columns)"
   ]
  },
  {
   "cell_type": "code",
   "execution_count": 20,
   "metadata": {},
   "outputs": [],
   "source": [
    "arff.dump('t10_X_train.arff'\n",
    "      , t10_X_train.values\n",
    "      , relation='top_5_correlated_non_normalized_train'\n",
    "      , names=t10_X_train.columns)\n",
    "\n",
    "arff.dump('t10_X_test.arff'\n",
    "      , t10_X_test.values\n",
    "      , relation='top_5_correlated_non_normalized_test'\n",
    "      , names=t10_X_test.columns)\n",
    "\n",
    "arff.dump('t10_X_mm_train.arff'\n",
    "      , t10_X_mm_train.values\n",
    "      , relation='top_5_correlated_normalized_train'\n",
    "      , names=t10_X_mm_train.columns)\n",
    "\n",
    "arff.dump('t10_X_mm_test.arff'\n",
    "      , t10_X_mm_test.values\n",
    "      , relation='top_5_correlated_normalized_test'\n",
    "      , names=t10_X_mm_test.columns)\n",
    "\n",
    "arff.dump('t10_X_mmr_train.arff'\n",
    "      , t10_X_mmr_train.values\n",
    "      , relation='top_5_correlated_normalized_rounded_train'\n",
    "      , names=t10_X_mmr_train.columns)\n",
    "\n",
    "arff.dump('t10_X_mmr_test.arff'\n",
    "      , t10_X_mmr_test.values\n",
    "      , relation='top_5_correlated_normalized_rounded_test'\n",
    "      , names=t10_X_mmr_test.columns)"
   ]
  },
  {
   "cell_type": "code",
   "execution_count": 21,
   "metadata": {},
   "outputs": [],
   "source": [
    "arff.dump('t20_X_train.arff'\n",
    "      , t20_X_train.values\n",
    "      , relation='top_5_correlated_non_normalized_train'\n",
    "      , names=t20_X_train.columns)\n",
    "\n",
    "arff.dump('t20_X_test.arff'\n",
    "      , t20_X_test.values\n",
    "      , relation='top_5_correlated_non_normalized_test'\n",
    "      , names=t20_X_test.columns)\n",
    "\n",
    "arff.dump('t20_X_mm_train.arff'\n",
    "      , t20_X_mm_train.values\n",
    "      , relation='top_5_correlated_normalized_train'\n",
    "      , names=t20_X_mm_train.columns)\n",
    "\n",
    "arff.dump('t20_X_mm_test.arff'\n",
    "      , t20_X_mm_test.values\n",
    "      , relation='top_5_correlated_normalized_test'\n",
    "      , names=t20_X_mm_test.columns)\n",
    "\n",
    "arff.dump('t20_X_mmr_train.arff'\n",
    "      , t20_X_mmr_train.values\n",
    "      , relation='top_5_correlated_normalized_rounded_train'\n",
    "      , names=t20_X_mmr_train.columns)\n",
    "\n",
    "arff.dump('t20_X_mmr_test.arff'\n",
    "      , t20_X_mmr_test.values\n",
    "      , relation='top_5_correlated_normalized_rounded_test'\n",
    "      , names=t20_X_mmr_test.columns)"
   ]
  }
 ],
 "metadata": {
  "kernelspec": {
   "display_name": "Python 3",
   "language": "python",
   "name": "python3"
  },
  "language_info": {
   "codemirror_mode": {
    "name": "ipython",
    "version": 3
   },
   "file_extension": ".py",
   "mimetype": "text/x-python",
   "name": "python",
   "nbconvert_exporter": "python",
   "pygments_lexer": "ipython3",
   "version": "3.7.9"
  }
 },
 "nbformat": 4,
 "nbformat_minor": 4
}
